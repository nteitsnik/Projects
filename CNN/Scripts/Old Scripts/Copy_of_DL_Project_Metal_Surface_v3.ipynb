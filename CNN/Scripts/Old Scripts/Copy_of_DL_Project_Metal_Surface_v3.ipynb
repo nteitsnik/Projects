{
  "cells": [
    {
      "cell_type": "markdown",
      "metadata": {
        "id": "gfAScMLOEaNI"
      },
      "source": [
        "# **From Scratch Learning -1st Dataset**"
      ]
    },
    {
      "cell_type": "markdown",
      "metadata": {
        "id": "W1s-buhee5pH"
      },
      "source": [
        "## Load Dataset"
      ]
    },
    {
      "cell_type": "code",
      "execution_count": 2,
      "metadata": {
        "colab": {
          "base_uri": "https://localhost:8080/"
        },
        "id": "hD4gk-9nGjDp",
        "outputId": "cbeba0c1-2cd4-45a4-a002-6df5cad309f1"
      },
      "outputs": [
        {
          "output_type": "stream",
          "name": "stdout",
          "text": [
            "Mounted at /content/drive\n"
          ]
        }
      ],
      "source": [
        "from google.colab import drive\n",
        "drive.mount('/content/drive')\n"
      ]
    },
    {
      "cell_type": "code",
      "execution_count": 3,
      "metadata": {
        "id": "AWkuAQvZGu20",
        "colab": {
          "base_uri": "https://localhost:8080/"
        },
        "outputId": "eb0b8c8d-284b-420d-c25b-f5ef166082ac"
      },
      "outputs": [
        {
          "output_type": "stream",
          "name": "stdout",
          "text": [
            "Downloading from https://www.kaggle.com/api/v1/datasets/download/fantacher/neu-metal-surface-defects-data?dataset_version_number=1...\n"
          ]
        },
        {
          "output_type": "stream",
          "name": "stderr",
          "text": [
            "100%|██████████| 57.4M/57.4M [00:00<00:00, 176MB/s]"
          ]
        },
        {
          "output_type": "stream",
          "name": "stdout",
          "text": [
            "Extracting files...\n"
          ]
        },
        {
          "output_type": "stream",
          "name": "stderr",
          "text": [
            "\n"
          ]
        },
        {
          "output_type": "stream",
          "name": "stdout",
          "text": [
            "Path to dataset files: /kaggle/input/neu-metal-surface-defects-data/NEU Metal Surface Defects Data\n"
          ]
        }
      ],
      "source": [
        "import kagglehub\n",
        "\n",
        "# Download latest version\n",
        "data_dir = kagglehub.dataset_download(\"fantacher/neu-metal-surface-defects-data\")\n",
        "\n",
        "root_dir = \"/kaggle/input/neu-metal-surface-defects-data/NEU Metal Surface Defects Data\"\n",
        "print(\"Path to dataset files:\", root_dir)"
      ]
    },
    {
      "cell_type": "markdown",
      "metadata": {
        "id": "vlKElW6we9SM"
      },
      "source": [
        "## Transform Images"
      ]
    },
    {
      "cell_type": "code",
      "execution_count": 4,
      "metadata": {
        "colab": {
          "base_uri": "https://localhost:8080/",
          "height": 383
        },
        "id": "BKJUH_lx-GeH",
        "outputId": "42f031ae-d317-4ea9-9e35-9f7973d0f81e"
      },
      "outputs": [
        {
          "output_type": "error",
          "ename": "FileNotFoundError",
          "evalue": "[Errno 2] No such file or directory: '/kaggle/input/neu-metal-surface-defects-data/NEU Metal Surface Defects Data/train'",
          "traceback": [
            "\u001b[0;31m---------------------------------------------------------------------------\u001b[0m",
            "\u001b[0;31mFileNotFoundError\u001b[0m                         Traceback (most recent call last)",
            "\u001b[0;32m/tmp/ipython-input-4-3136135229.py\u001b[0m in \u001b[0;36m<cell line: 0>\u001b[0;34m()\u001b[0m\n\u001b[1;32m     29\u001b[0m \u001b[0;34m\u001b[0m\u001b[0m\n\u001b[1;32m     30\u001b[0m \u001b[0;34m\u001b[0m\u001b[0m\n\u001b[0;32m---> 31\u001b[0;31m \u001b[0mtrain_dataset\u001b[0m \u001b[0;34m=\u001b[0m \u001b[0mdatasets\u001b[0m\u001b[0;34m.\u001b[0m\u001b[0mImageFolder\u001b[0m\u001b[0;34m(\u001b[0m\u001b[0mroot\u001b[0m\u001b[0;34m=\u001b[0m\u001b[0mos\u001b[0m\u001b[0;34m.\u001b[0m\u001b[0mpath\u001b[0m\u001b[0;34m.\u001b[0m\u001b[0mjoin\u001b[0m\u001b[0;34m(\u001b[0m\u001b[0mroot_dir\u001b[0m\u001b[0;34m,\u001b[0m \u001b[0;34m'train'\u001b[0m\u001b[0;34m)\u001b[0m\u001b[0;34m,\u001b[0m \u001b[0mtransform\u001b[0m\u001b[0;34m=\u001b[0m\u001b[0mtransform\u001b[0m\u001b[0;34m)\u001b[0m\u001b[0;34m\u001b[0m\u001b[0;34m\u001b[0m\u001b[0m\n\u001b[0m\u001b[1;32m     32\u001b[0m \u001b[0mval_dataset\u001b[0m   \u001b[0;34m=\u001b[0m \u001b[0mdatasets\u001b[0m\u001b[0;34m.\u001b[0m\u001b[0mImageFolder\u001b[0m\u001b[0;34m(\u001b[0m\u001b[0mroot\u001b[0m\u001b[0;34m=\u001b[0m\u001b[0mos\u001b[0m\u001b[0;34m.\u001b[0m\u001b[0mpath\u001b[0m\u001b[0;34m.\u001b[0m\u001b[0mjoin\u001b[0m\u001b[0;34m(\u001b[0m\u001b[0mroot_dir\u001b[0m\u001b[0;34m,\u001b[0m \u001b[0;34m'valid'\u001b[0m\u001b[0;34m)\u001b[0m\u001b[0;34m,\u001b[0m \u001b[0mtransform\u001b[0m\u001b[0;34m=\u001b[0m\u001b[0mtransform\u001b[0m\u001b[0;34m)\u001b[0m\u001b[0;34m\u001b[0m\u001b[0;34m\u001b[0m\u001b[0m\n\u001b[1;32m     33\u001b[0m \u001b[0mtest_dataset\u001b[0m  \u001b[0;34m=\u001b[0m \u001b[0mdatasets\u001b[0m\u001b[0;34m.\u001b[0m\u001b[0mImageFolder\u001b[0m\u001b[0;34m(\u001b[0m\u001b[0mroot\u001b[0m\u001b[0;34m=\u001b[0m\u001b[0mos\u001b[0m\u001b[0;34m.\u001b[0m\u001b[0mpath\u001b[0m\u001b[0;34m.\u001b[0m\u001b[0mjoin\u001b[0m\u001b[0;34m(\u001b[0m\u001b[0mroot_dir\u001b[0m\u001b[0;34m,\u001b[0m \u001b[0;34m'test'\u001b[0m\u001b[0;34m)\u001b[0m\u001b[0;34m,\u001b[0m \u001b[0mtransform\u001b[0m\u001b[0;34m=\u001b[0m\u001b[0mtransform\u001b[0m\u001b[0;34m)\u001b[0m\u001b[0;34m\u001b[0m\u001b[0;34m\u001b[0m\u001b[0m\n",
            "\u001b[0;32m/usr/local/lib/python3.11/dist-packages/torchvision/datasets/folder.py\u001b[0m in \u001b[0;36m__init__\u001b[0;34m(self, root, transform, target_transform, loader, is_valid_file, allow_empty)\u001b[0m\n\u001b[1;32m    326\u001b[0m         \u001b[0mallow_empty\u001b[0m\u001b[0;34m:\u001b[0m \u001b[0mbool\u001b[0m \u001b[0;34m=\u001b[0m \u001b[0;32mFalse\u001b[0m\u001b[0;34m,\u001b[0m\u001b[0;34m\u001b[0m\u001b[0;34m\u001b[0m\u001b[0m\n\u001b[1;32m    327\u001b[0m     ):\n\u001b[0;32m--> 328\u001b[0;31m         super().__init__(\n\u001b[0m\u001b[1;32m    329\u001b[0m             \u001b[0mroot\u001b[0m\u001b[0;34m,\u001b[0m\u001b[0;34m\u001b[0m\u001b[0;34m\u001b[0m\u001b[0m\n\u001b[1;32m    330\u001b[0m             \u001b[0mloader\u001b[0m\u001b[0;34m,\u001b[0m\u001b[0;34m\u001b[0m\u001b[0;34m\u001b[0m\u001b[0m\n",
            "\u001b[0;32m/usr/local/lib/python3.11/dist-packages/torchvision/datasets/folder.py\u001b[0m in \u001b[0;36m__init__\u001b[0;34m(self, root, loader, extensions, transform, target_transform, is_valid_file, allow_empty)\u001b[0m\n\u001b[1;32m    147\u001b[0m     ) -> None:\n\u001b[1;32m    148\u001b[0m         \u001b[0msuper\u001b[0m\u001b[0;34m(\u001b[0m\u001b[0;34m)\u001b[0m\u001b[0;34m.\u001b[0m\u001b[0m__init__\u001b[0m\u001b[0;34m(\u001b[0m\u001b[0mroot\u001b[0m\u001b[0;34m,\u001b[0m \u001b[0mtransform\u001b[0m\u001b[0;34m=\u001b[0m\u001b[0mtransform\u001b[0m\u001b[0;34m,\u001b[0m \u001b[0mtarget_transform\u001b[0m\u001b[0;34m=\u001b[0m\u001b[0mtarget_transform\u001b[0m\u001b[0;34m)\u001b[0m\u001b[0;34m\u001b[0m\u001b[0;34m\u001b[0m\u001b[0m\n\u001b[0;32m--> 149\u001b[0;31m         \u001b[0mclasses\u001b[0m\u001b[0;34m,\u001b[0m \u001b[0mclass_to_idx\u001b[0m \u001b[0;34m=\u001b[0m \u001b[0mself\u001b[0m\u001b[0;34m.\u001b[0m\u001b[0mfind_classes\u001b[0m\u001b[0;34m(\u001b[0m\u001b[0mself\u001b[0m\u001b[0;34m.\u001b[0m\u001b[0mroot\u001b[0m\u001b[0;34m)\u001b[0m\u001b[0;34m\u001b[0m\u001b[0;34m\u001b[0m\u001b[0m\n\u001b[0m\u001b[1;32m    150\u001b[0m         samples = self.make_dataset(\n\u001b[1;32m    151\u001b[0m             \u001b[0mself\u001b[0m\u001b[0;34m.\u001b[0m\u001b[0mroot\u001b[0m\u001b[0;34m,\u001b[0m\u001b[0;34m\u001b[0m\u001b[0;34m\u001b[0m\u001b[0m\n",
            "\u001b[0;32m/usr/local/lib/python3.11/dist-packages/torchvision/datasets/folder.py\u001b[0m in \u001b[0;36mfind_classes\u001b[0;34m(self, directory)\u001b[0m\n\u001b[1;32m    232\u001b[0m             \u001b[0;34m(\u001b[0m\u001b[0mTuple\u001b[0m\u001b[0;34m[\u001b[0m\u001b[0mList\u001b[0m\u001b[0;34m[\u001b[0m\u001b[0mstr\u001b[0m\u001b[0;34m]\u001b[0m\u001b[0;34m,\u001b[0m \u001b[0mDict\u001b[0m\u001b[0;34m[\u001b[0m\u001b[0mstr\u001b[0m\u001b[0;34m,\u001b[0m \u001b[0mint\u001b[0m\u001b[0;34m]\u001b[0m\u001b[0;34m]\u001b[0m\u001b[0;34m)\u001b[0m\u001b[0;34m:\u001b[0m \u001b[0mList\u001b[0m \u001b[0mof\u001b[0m \u001b[0mall\u001b[0m \u001b[0mclasses\u001b[0m \u001b[0;32mand\u001b[0m \u001b[0mdictionary\u001b[0m \u001b[0mmapping\u001b[0m \u001b[0meach\u001b[0m \u001b[0;32mclass\u001b[0m \u001b[0mto\u001b[0m \u001b[0man\u001b[0m \u001b[0mindex\u001b[0m\u001b[0;34m.\u001b[0m\u001b[0;34m\u001b[0m\u001b[0;34m\u001b[0m\u001b[0m\n\u001b[1;32m    233\u001b[0m         \"\"\"\n\u001b[0;32m--> 234\u001b[0;31m         \u001b[0;32mreturn\u001b[0m \u001b[0mfind_classes\u001b[0m\u001b[0;34m(\u001b[0m\u001b[0mdirectory\u001b[0m\u001b[0;34m)\u001b[0m\u001b[0;34m\u001b[0m\u001b[0;34m\u001b[0m\u001b[0m\n\u001b[0m\u001b[1;32m    235\u001b[0m \u001b[0;34m\u001b[0m\u001b[0m\n\u001b[1;32m    236\u001b[0m     \u001b[0;32mdef\u001b[0m \u001b[0m__getitem__\u001b[0m\u001b[0;34m(\u001b[0m\u001b[0mself\u001b[0m\u001b[0;34m,\u001b[0m \u001b[0mindex\u001b[0m\u001b[0;34m:\u001b[0m \u001b[0mint\u001b[0m\u001b[0;34m)\u001b[0m \u001b[0;34m->\u001b[0m \u001b[0mTuple\u001b[0m\u001b[0;34m[\u001b[0m\u001b[0mAny\u001b[0m\u001b[0;34m,\u001b[0m \u001b[0mAny\u001b[0m\u001b[0;34m]\u001b[0m\u001b[0;34m:\u001b[0m\u001b[0;34m\u001b[0m\u001b[0;34m\u001b[0m\u001b[0m\n",
            "\u001b[0;32m/usr/local/lib/python3.11/dist-packages/torchvision/datasets/folder.py\u001b[0m in \u001b[0;36mfind_classes\u001b[0;34m(directory)\u001b[0m\n\u001b[1;32m     39\u001b[0m     \u001b[0mSee\u001b[0m \u001b[0;34m:\u001b[0m\u001b[0;32mclass\u001b[0m\u001b[0;34m:\u001b[0m\u001b[0;31m`\u001b[0m\u001b[0mDatasetFolder\u001b[0m\u001b[0;31m`\u001b[0m \u001b[0;32mfor\u001b[0m \u001b[0mdetails\u001b[0m\u001b[0;34m.\u001b[0m\u001b[0;34m\u001b[0m\u001b[0;34m\u001b[0m\u001b[0m\n\u001b[1;32m     40\u001b[0m     \"\"\"\n\u001b[0;32m---> 41\u001b[0;31m     \u001b[0mclasses\u001b[0m \u001b[0;34m=\u001b[0m \u001b[0msorted\u001b[0m\u001b[0;34m(\u001b[0m\u001b[0mentry\u001b[0m\u001b[0;34m.\u001b[0m\u001b[0mname\u001b[0m \u001b[0;32mfor\u001b[0m \u001b[0mentry\u001b[0m \u001b[0;32min\u001b[0m \u001b[0mos\u001b[0m\u001b[0;34m.\u001b[0m\u001b[0mscandir\u001b[0m\u001b[0;34m(\u001b[0m\u001b[0mdirectory\u001b[0m\u001b[0;34m)\u001b[0m \u001b[0;32mif\u001b[0m \u001b[0mentry\u001b[0m\u001b[0;34m.\u001b[0m\u001b[0mis_dir\u001b[0m\u001b[0;34m(\u001b[0m\u001b[0;34m)\u001b[0m\u001b[0;34m)\u001b[0m\u001b[0;34m\u001b[0m\u001b[0;34m\u001b[0m\u001b[0m\n\u001b[0m\u001b[1;32m     42\u001b[0m     \u001b[0;32mif\u001b[0m \u001b[0;32mnot\u001b[0m \u001b[0mclasses\u001b[0m\u001b[0;34m:\u001b[0m\u001b[0;34m\u001b[0m\u001b[0;34m\u001b[0m\u001b[0m\n\u001b[1;32m     43\u001b[0m         \u001b[0;32mraise\u001b[0m \u001b[0mFileNotFoundError\u001b[0m\u001b[0;34m(\u001b[0m\u001b[0;34mf\"Couldn't find any class folder in {directory}.\"\u001b[0m\u001b[0;34m)\u001b[0m\u001b[0;34m\u001b[0m\u001b[0;34m\u001b[0m\u001b[0m\n",
            "\u001b[0;31mFileNotFoundError\u001b[0m: [Errno 2] No such file or directory: '/kaggle/input/neu-metal-surface-defects-data/NEU Metal Surface Defects Data/train'"
          ]
        }
      ],
      "source": [
        "import os\n",
        "import random\n",
        "import numpy as np\n",
        "import torch\n",
        "from torchvision import datasets, transforms\n",
        "from torch.utils.data import DataLoader\n",
        "\n",
        "seed = 24\n",
        "random.seed(seed)\n",
        "np.random.seed(seed)\n",
        "torch.manual_seed(seed)\n",
        "torch.cuda.manual_seed_all(seed)\n",
        "torch.backends.cudnn.deterministic = True\n",
        "torch.backends.cudnn.benchmark = False\n",
        "\n",
        "g = torch.Generator().manual_seed(seed)\n",
        "\n",
        "def seed_worker(worker_id):\n",
        "    worker_seed = seed + worker_id\n",
        "    np.random.seed(worker_seed)\n",
        "    random.seed(worker_seed)\n",
        "\n",
        "transform = transforms.Compose([\n",
        "    transforms.Grayscale(num_output_channels=1),\n",
        "    transforms.Resize((64, 64)),\n",
        "    transforms.ToTensor(),\n",
        "    transforms.Normalize((0.5,), (0.5,))\n",
        "])\n",
        "\n",
        "\n",
        "train_dataset = datasets.ImageFolder(root=os.path.join(root_dir, 'train'), transform=transform)\n",
        "val_dataset   = datasets.ImageFolder(root=os.path.join(root_dir, 'valid'), transform=transform)\n",
        "test_dataset  = datasets.ImageFolder(root=os.path.join(root_dir, 'test'), transform=transform)\n",
        "\n",
        "train_loader = DataLoader(\n",
        "    train_dataset, batch_size=32, shuffle=True,\n",
        "    worker_init_fn=seed_worker, generator=g\n",
        ")\n",
        "\n",
        "val_loader = DataLoader(\n",
        "    val_dataset, batch_size=32, shuffle=False,\n",
        "    worker_init_fn=seed_worker, generator=g\n",
        ")\n",
        "\n",
        "test_loader = DataLoader(\n",
        "    test_dataset, batch_size=32, shuffle=False,\n",
        "    worker_init_fn=seed_worker, generator=g\n",
        ")\n",
        "\n",
        "print(\"Classes:\", train_dataset.classes)\n",
        "print(\"Train samples:\", len(train_dataset))\n",
        "print(\"Validation samples:\", len(val_dataset))\n",
        "print(\"Test samples:\", len(test_dataset))\n"
      ]
    },
    {
      "cell_type": "markdown",
      "metadata": {
        "id": "PNhIykmZfEnm"
      },
      "source": [
        "## Neural Network Architecture"
      ]
    },
    {
      "cell_type": "code",
      "execution_count": null,
      "metadata": {
        "id": "hjwnuVEIKqdD"
      },
      "outputs": [],
      "source": [
        "import torch.nn as nn\n",
        "import torch.nn.functional as F\n",
        "\n",
        "\n",
        "class CNN(nn.Module):\n",
        "    def __init__(self, num_classes, dropout_prob=0.5):\n",
        "        super(CNN, self).__init__()\n",
        "        self.conv1 = nn.Conv2d(1, 8, kernel_size=3, padding=1)\n",
        "        self.bn1   = nn.BatchNorm2d(8)\n",
        "\n",
        "        self.conv2 = nn.Conv2d(8, 16, kernel_size=3, padding=1)\n",
        "        self.bn2   = nn.BatchNorm2d(16)\n",
        "\n",
        "        self.conv3 = nn.Conv2d(16, 32, kernel_size=3, padding=1)\n",
        "        self.bn3   = nn.BatchNorm2d(32)\n",
        "\n",
        "        self.conv4 = nn.Conv2d(32, 64, kernel_size=3, padding=1)\n",
        "        self.bn4   = nn.BatchNorm2d(64)\n",
        "\n",
        "        self.pool = nn.MaxPool2d(2, 2)\n",
        "        self.dropout = nn.Dropout(dropout_prob)\n",
        "\n",
        "        self.fc1  = nn.Linear(64 * 4 * 4, 64)\n",
        "        self.fc2  = nn.Linear(64, num_classes)\n",
        "\n",
        "    def forward(self, x):\n",
        "        x = self.pool(F.relu(self.bn1(self.conv1(x))))  # Conv -> BN -> ReLU -> Pool\n",
        "        x = self.pool(F.relu(self.bn2(self.conv2(x))))\n",
        "        x = self.pool(F.relu(self.bn3(self.conv3(x))))\n",
        "        x = self.pool(F.relu(self.bn4(self.conv4(x))))\n",
        "        x = x.view(-1, 64 * 4 * 4)\n",
        "        x = self.dropout(F.relu(self.fc1(x)))\n",
        "        x = self.fc2(x)\n",
        "        return x"
      ]
    },
    {
      "cell_type": "markdown",
      "metadata": {
        "id": "oTduHQ5QfL1i"
      },
      "source": [
        "## Training - Validation"
      ]
    },
    {
      "cell_type": "code",
      "execution_count": null,
      "metadata": {
        "id": "dhc9Dj2bKrrt"
      },
      "outputs": [],
      "source": [
        "import torch\n",
        "import torch.optim as optim\n",
        "\n",
        "device = torch.device('cuda' if torch.cuda.is_available() else 'cpu')\n",
        "model = CNN(num_classes=6).to(device)\n",
        "\n",
        "criterion = nn.CrossEntropyLoss()\n",
        "optimizer = optim.Adam(model.parameters(), lr=0.001)\n",
        "\n"
      ]
    },
    {
      "cell_type": "code",
      "execution_count": null,
      "metadata": {
        "id": "rnXSWMusKueb"
      },
      "outputs": [],
      "source": [
        "def train_model(model, train_loader, valid_loader, criterion, optimizer, epochs,model_save_name):\n",
        "    train_losses = []\n",
        "    val_losses = []\n",
        "\n",
        "    best_val_loss = float('inf')\n",
        "    best_model_state = None\n",
        "\n",
        "    for epoch in range(epochs):\n",
        "        model.train()\n",
        "        running_loss = 0.0\n",
        "        correct = 0\n",
        "        total = 0\n",
        "\n",
        "        for images, labels in train_loader:\n",
        "            images, labels = images.to(device), labels.to(device)\n",
        "\n",
        "            optimizer.zero_grad()\n",
        "            outputs = model(images)\n",
        "            loss = criterion(outputs, labels)\n",
        "            loss.backward()\n",
        "            optimizer.step()\n",
        "\n",
        "            running_loss += loss.item()\n",
        "            _, predicted = torch.max(outputs, 1)\n",
        "            total += labels.size(0)\n",
        "            correct += (predicted == labels).sum().item()\n",
        "\n",
        "        train_accuracy = correct / total\n",
        "        train_loss = running_loss / len(train_loader)\n",
        "        train_losses.append(train_loss)\n",
        "\n",
        "        # Validation\n",
        "        model.eval()\n",
        "        val_correct = 0\n",
        "        val_total = 0\n",
        "        val_loss = 0.0\n",
        "        with torch.no_grad():\n",
        "            for images, labels in valid_loader:\n",
        "                images, labels = images.to(device), labels.to(device)\n",
        "                outputs = model(images)\n",
        "                loss = criterion(outputs, labels)\n",
        "                val_loss += loss.item()\n",
        "                _, predicted = torch.max(outputs, 1)\n",
        "                val_total += labels.size(0)\n",
        "                val_correct += (predicted == labels).sum().item()\n",
        "\n",
        "        val_accuracy = val_correct / val_total\n",
        "        val_loss = val_loss / len(valid_loader)\n",
        "        val_losses.append(val_loss)\n",
        "\n",
        "        print(f\"Epoch {epoch+1}, Train Loss: {train_loss:.4f}, Val Loss: {val_loss:.4f}, \"\n",
        "              f\"Train Acc: {train_accuracy:.4f}, Val Acc: {val_accuracy:.4f}\")\n",
        "\n",
        "        if val_loss < best_val_loss:\n",
        "            best_val_loss = val_loss\n",
        "            best_model_state = model.state_dict()\n",
        "\n",
        "    # Save best model state\n",
        "    torch.save(best_model_state, f'{model_save_name}.pth')\n",
        "\n",
        "    return train_losses, val_losses\n"
      ]
    },
    {
      "cell_type": "code",
      "execution_count": null,
      "metadata": {
        "id": "gNjr7MpcxGLx"
      },
      "outputs": [],
      "source": [
        "# Train and get losses\n",
        "train_losses, val_losses = train_model(model, train_loader, val_loader, criterion, optimizer, epochs=50,model_save_name='Neu_scratch')"
      ]
    },
    {
      "cell_type": "code",
      "execution_count": null,
      "metadata": {
        "id": "kreQA_7V0Ows"
      },
      "outputs": [],
      "source": [
        "import matplotlib.pyplot as plt\n",
        "import numpy as np\n",
        "\n",
        "\n",
        "# Create a list of epoch numbers starting from 1\n",
        "epochs = range(1, len(train_losses) + 1)\n",
        "\n",
        "# Plotting\n",
        "plt.figure(figsize=(8, 5))\n",
        "plt.plot(epochs, train_losses, label='Training Loss', color='green', marker='o')\n",
        "plt.plot(epochs, val_losses, label='Validation Loss', color='red', marker='o')\n",
        "plt.xlabel('Epoch')\n",
        "plt.ylabel('Loss')\n",
        "plt.title('Training vs Validation Loss 1st dataset')\n",
        "plt.legend()\n",
        "\n",
        "# Ensure x-axis ticks are at integer epoch numbers\n",
        "plt.xticks(epochs, rotation=90)\n",
        "\n",
        "plt.show()"
      ]
    },
    {
      "cell_type": "code",
      "execution_count": null,
      "metadata": {
        "id": "6HZZrM7Oytl6"
      },
      "outputs": [],
      "source": [
        "# Find the minimum validation loss and its epoch\n",
        "min_val_loss = min(val_losses)\n",
        "min_epoch = val_losses.index(min_val_loss) + 1  # +1 because epochs start at 1\n",
        "\n",
        "print(f\"Minimum validation loss: {min_val_loss:.4f} at epoch {min_epoch}\")"
      ]
    },
    {
      "cell_type": "markdown",
      "metadata": {
        "id": "f4Fd4_0UfTmJ"
      },
      "source": [
        "## Testing"
      ]
    },
    {
      "cell_type": "code",
      "execution_count": null,
      "metadata": {
        "id": "3rfQkyVupnTH"
      },
      "outputs": [],
      "source": [
        "# Load best weights before testing\n",
        "model.load_state_dict(torch.load('Neu_scratch.pth'))"
      ]
    },
    {
      "cell_type": "code",
      "execution_count": null,
      "metadata": {
        "id": "t5BxRotYMK5D"
      },
      "outputs": [],
      "source": [
        "def test_model(model, test_loader):\n",
        "    model.eval()\n",
        "    correct = 0\n",
        "    total = 0\n",
        "    with torch.no_grad():\n",
        "        for images, labels in test_loader:\n",
        "            images, labels = images.to(device), labels.to(device)\n",
        "            outputs = model(images)\n",
        "            _, predicted = torch.max(outputs, 1)\n",
        "            total += labels.size(0)\n",
        "            correct += (predicted == labels).sum().item()\n",
        "    print(f\"Test Accuracy: {100*correct / total:.4f}%\")\n"
      ]
    },
    {
      "cell_type": "code",
      "execution_count": null,
      "metadata": {
        "id": "0bFmD1w1RYIw"
      },
      "outputs": [],
      "source": [
        "test_model(model,test_loader)"
      ]
    },
    {
      "cell_type": "code",
      "execution_count": null,
      "metadata": {
        "id": "YG5N4Bi11Skn"
      },
      "outputs": [],
      "source": [
        "from torchsummary import summary\n",
        "summary(model, input_size=(1, 64, 64))"
      ]
    },
    {
      "cell_type": "code",
      "execution_count": null,
      "metadata": {
        "id": "QHK3lzfqunaJ"
      },
      "outputs": [],
      "source": [
        "import matplotlib.pyplot as plt\n",
        "from sklearn.metrics import confusion_matrix, ConfusionMatrixDisplay\n",
        "import numpy as np"
      ]
    },
    {
      "cell_type": "code",
      "execution_count": null,
      "metadata": {
        "id": "paOh3V7Auo2y"
      },
      "outputs": [],
      "source": [
        "model.eval()\n",
        "all_preds = []\n",
        "all_labels = []\n",
        "\n",
        "with torch.no_grad():\n",
        "    for images, labels in test_loader:\n",
        "        images = images.to(device)\n",
        "        labels = labels.to(device)\n",
        "        outputs = model(images)\n",
        "        _, preds = torch.max(outputs, 1)\n",
        "        all_preds.extend(preds.cpu().numpy())\n",
        "        all_labels.extend(labels.cpu().numpy())\n"
      ]
    },
    {
      "cell_type": "code",
      "execution_count": null,
      "metadata": {
        "id": "MHP2Qd-8uuK9"
      },
      "outputs": [],
      "source": [
        "from sklearn.metrics import classification_report\n",
        "\n",
        "cm = confusion_matrix(all_labels, all_preds)\n",
        "class_names = test_dataset.classes  # Automatically extracted from folder names\n",
        "\n",
        "disp = ConfusionMatrixDisplay(confusion_matrix=cm, display_labels=class_names)\n",
        "disp.plot(cmap=plt.cm.Greens, xticks_rotation=45)\n",
        "plt.title(\"Confusion Matrix\")\n",
        "plt.show()\n",
        "\n",
        "print(classification_report(all_labels, all_preds, target_names=class_names))"
      ]
    },
    {
      "cell_type": "markdown",
      "metadata": {
        "id": "0NlyPe1L3k-m"
      },
      "source": [
        "## Visualizations"
      ]
    },
    {
      "cell_type": "code",
      "execution_count": null,
      "metadata": {
        "id": "cOIK9TZH1X1p"
      },
      "outputs": [],
      "source": [
        "# from torch.utils.tensorboard import SummaryWriter\n",
        "# writer = SummaryWriter()\n",
        "# dummy_input = torch.randn(1, 1, 64, 64).to(device)\n",
        "# writer.add_graph(model, dummy_input)\n",
        "# writer.close()"
      ]
    },
    {
      "cell_type": "code",
      "execution_count": null,
      "metadata": {
        "id": "z8DabjrR10d4"
      },
      "outputs": [],
      "source": [
        "# !pip install tensorboard"
      ]
    },
    {
      "cell_type": "code",
      "execution_count": null,
      "metadata": {
        "id": "MVAQtgcY13bv"
      },
      "outputs": [],
      "source": [
        "# %load_ext tensorboard\n",
        "# %tensorboard --logdir=runs"
      ]
    },
    {
      "cell_type": "code",
      "execution_count": null,
      "metadata": {
        "id": "Y_0n1RT6yESB"
      },
      "outputs": [],
      "source": [
        "import matplotlib.pyplot as plt\n",
        "\n",
        "# Visualize weights of first conv layer\n",
        "weights = model.conv1.weight.data.cpu()  # shape: (out_channels, in_channels, kH, kW)\n",
        "\n",
        "fig, axes = plt.subplots(1, weights.shape[0], figsize=(15,5))\n",
        "for i, ax in enumerate(axes):\n",
        "    ax.imshow(weights[i, 0], cmap='gray')\n",
        "    ax.axis('off')\n",
        "plt.show()\n",
        "\n",
        "\n",
        "# Visualize feature maps for one input image\n",
        "def visualize_feature_maps(model, image):\n",
        "    model.eval()\n",
        "    with torch.no_grad():\n",
        "        x = image.unsqueeze(0).to(device)  # add batch dimension\n",
        "        x = model.bn1(model.conv1(x))      # first conv layer + batch norm (before relu/pool)\n",
        "        x = x.cpu().squeeze(0)              # remove batch dim\n",
        "\n",
        "    fig, axes = plt.subplots(1, x.shape[0], figsize=(15,5))\n",
        "    for i, ax in enumerate(axes):\n",
        "        ax.imshow(x[i], cmap='gray')\n",
        "        ax.axis('off')\n",
        "    plt.show()\n"
      ]
    },
    {
      "cell_type": "code",
      "execution_count": null,
      "metadata": {
        "id": "KPd4eKOCyJKb"
      },
      "outputs": [],
      "source": [
        "import matplotlib.pyplot as plt\n",
        "\n",
        "# Visualize weights of first conv layer\n",
        "weights = model.conv2.weight.data.cpu()  # shape: (out_channels, in_channels, kH, kW)\n",
        "\n",
        "fig, axes = plt.subplots(1, weights.shape[0], figsize=(15,5))\n",
        "for i, ax in enumerate(axes):\n",
        "    ax.imshow(weights[i, 0], cmap='gray')\n",
        "    ax.axis('off')\n",
        "plt.show()\n",
        "\n",
        "\n",
        "# Visualize feature maps for one input image\n",
        "def visualize_feature_maps(model, image):\n",
        "    model.eval()\n",
        "    with torch.no_grad():\n",
        "        x = image.unsqueeze(0).to(device)  # add batch dimension\n",
        "        x = model.bn2(model.conv2(x))      # second conv layer + batch norm (before relu/pool)\n",
        "        x = x.cpu().squeeze(0)              # remove batch dim\n",
        "\n",
        "    fig, axes = plt.subplots(1, x.shape[0], figsize=(15,5))\n",
        "    for i, ax in enumerate(axes):\n",
        "        ax.imshow(x[i], cmap='gray')\n",
        "        ax.axis('off')\n",
        "    plt.show()\n"
      ]
    },
    {
      "cell_type": "code",
      "execution_count": null,
      "metadata": {
        "id": "PWdWK5YTyU5R"
      },
      "outputs": [],
      "source": [
        "import matplotlib.pyplot as plt\n",
        "\n",
        "# Visualize weights of first conv layer\n",
        "weights = model.conv3.weight.data.cpu()  # shape: (out_channels, in_channels, kH, kW)\n",
        "\n",
        "fig, axes = plt.subplots(1, weights.shape[0], figsize=(15,5))\n",
        "for i, ax in enumerate(axes):\n",
        "    ax.imshow(weights[i, 0], cmap='gray')\n",
        "    ax.axis('off')\n",
        "plt.show()\n",
        "\n",
        "\n",
        "# Visualize feature maps for one input image\n",
        "def visualize_feature_maps(model, image):\n",
        "    model.eval()\n",
        "    with torch.no_grad():\n",
        "        x = image.unsqueeze(0).to(device)  # add batch dimension\n",
        "        x = model.bn3(model.conv3(x))      # third conv layer + batch norm (before relu/pool)\n",
        "        x = x.cpu().squeeze(0)              # remove batch dim\n",
        "\n",
        "    fig, axes = plt.subplots(1, x.shape[0], figsize=(15,5))\n",
        "    for i, ax in enumerate(axes):\n",
        "        ax.imshow(x[i], cmap='gray')\n",
        "        ax.axis('off')\n",
        "    plt.show()\n"
      ]
    },
    {
      "cell_type": "code",
      "execution_count": null,
      "metadata": {
        "id": "65czKkb2yhJ9"
      },
      "outputs": [],
      "source": [
        "import matplotlib.pyplot as plt\n",
        "\n",
        "# Visualize weights of first conv layer\n",
        "weights = model.conv4.weight.data.cpu()  # shape: (out_channels, in_channels, kH, kW)\n",
        "\n",
        "fig, axes = plt.subplots(1, weights.shape[0], figsize=(15,5))\n",
        "for i, ax in enumerate(axes):\n",
        "    ax.imshow(weights[i, 0], cmap='gray')\n",
        "    ax.axis('off')\n",
        "plt.show()\n",
        "\n",
        "\n",
        "# Visualize feature maps for one input image\n",
        "def visualize_feature_maps(model, image):\n",
        "    model.eval()\n",
        "    with torch.no_grad():\n",
        "        x = image.unsqueeze(0).to(device)  # add batch dimension\n",
        "        x = model.bn4(model.conv4(x))      # forth conv layer + batch norm (before relu/pool)\n",
        "        x = x.cpu().squeeze(0)              # remove batch dim\n",
        "\n",
        "    fig, axes = plt.subplots(1, x.shape[0], figsize=(15,5))\n",
        "    for i, ax in enumerate(axes):\n",
        "        ax.imshow(x[i], cmap='gray')\n",
        "        ax.axis('off')\n",
        "    plt.show()\n"
      ]
    },
    {
      "cell_type": "code",
      "execution_count": null,
      "metadata": {
        "id": "0HLrzTVr0Zul"
      },
      "outputs": [],
      "source": [
        "activation = {}\n",
        "\n",
        "def get_activation(name):\n",
        "    def hook(model, input, output):\n",
        "        activation[name] = output.detach()\n",
        "    return hook\n",
        "\n",
        "model.conv1.register_forward_hook(get_activation('conv1'))\n",
        "\n",
        "# Run a batch through the model\n",
        "images, labels = next(iter(test_loader))\n",
        "images = images.to(device)\n",
        "output = model(images)\n",
        "\n",
        "# activation['conv1'] now holds the feature maps of conv1\n",
        "act = activation['conv1'][0].cpu()  # first image in batch\n",
        "\n",
        "# Plot some feature maps\n",
        "fig, axes = plt.subplots(1, 8, figsize=(15, 5))\n",
        "for i in range(8):\n",
        "    axes[i].imshow(act[i], cmap='gray')\n",
        "    axes[i].axis('off')\n",
        "plt.show()"
      ]
    },
    {
      "cell_type": "code",
      "execution_count": null,
      "metadata": {
        "id": "lpp9e2AD0eCF"
      },
      "outputs": [],
      "source": [
        "activation = {}\n",
        "\n",
        "def get_activation(name):\n",
        "    def hook(model, input, output):\n",
        "        activation[name] = output.detach()\n",
        "    return hook\n",
        "\n",
        "model.conv2.register_forward_hook(get_activation('conv2'))\n",
        "\n",
        "# Run a batch through the model\n",
        "images, labels = next(iter(test_loader))\n",
        "images = images.to(device)\n",
        "output = model(images)\n",
        "\n",
        "# activation['conv2'] now holds the feature maps of conv2\n",
        "act = activation['conv2'][0].cpu()  # first image in batch\n",
        "\n",
        "# Plot some feature maps\n",
        "fig, axes = plt.subplots(1, 8, figsize=(15, 5))\n",
        "for i in range(8):\n",
        "    axes[i].imshow(act[i], cmap='gray')\n",
        "    axes[i].axis('off')\n",
        "plt.show()"
      ]
    },
    {
      "cell_type": "code",
      "execution_count": null,
      "metadata": {
        "id": "UFbdCGdE0qbN"
      },
      "outputs": [],
      "source": [
        "activation = {}\n",
        "\n",
        "def get_activation(name):\n",
        "    def hook(model, input, output):\n",
        "        activation[name] = output.detach()\n",
        "    return hook\n",
        "\n",
        "model.conv3.register_forward_hook(get_activation('conv3'))\n",
        "\n",
        "# Run a batch through the model\n",
        "images, labels = next(iter(test_loader))\n",
        "images = images.to(device)\n",
        "output = model(images)\n",
        "\n",
        "# activation['conv3'] now holds the feature maps of conv2\n",
        "act = activation['conv3'][0].cpu()  # first image in batch\n",
        "\n",
        "# Plot some feature maps\n",
        "fig, axes = plt.subplots(1, 8, figsize=(15, 5))\n",
        "for i in range(8):\n",
        "    axes[i].imshow(act[i], cmap='gray')\n",
        "    axes[i].axis('off')\n",
        "plt.show()"
      ]
    },
    {
      "cell_type": "code",
      "execution_count": null,
      "metadata": {
        "id": "qsNFqO390xdj"
      },
      "outputs": [],
      "source": [
        "activation = {}\n",
        "\n",
        "def get_activation(name):\n",
        "    def hook(model, input, output):\n",
        "        activation[name] = output.detach()\n",
        "    return hook\n",
        "\n",
        "model.conv4.register_forward_hook(get_activation('conv4'))\n",
        "\n",
        "# Run a batch through the model\n",
        "images, labels = next(iter(test_loader))\n",
        "images = images.to(device)\n",
        "output = model(images)\n",
        "\n",
        "# activation['conv4'] now holds the feature maps of conv4\n",
        "act = activation['conv4'][0].cpu()  # first image in batch\n",
        "\n",
        "# Plot some feature maps\n",
        "fig, axes = plt.subplots(1, 8, figsize=(15, 5))\n",
        "for i in range(8):\n",
        "    axes[i].imshow(act[i], cmap='gray')\n",
        "    axes[i].axis('off')\n",
        "plt.show()"
      ]
    },
    {
      "cell_type": "markdown",
      "metadata": {
        "id": "gWUIQ7uL2SFw"
      },
      "source": [
        "# **Transfer Learning - 1 fc layer unfreezed**"
      ]
    },
    {
      "cell_type": "markdown",
      "metadata": {
        "id": "o6YfMiEZfl64"
      },
      "source": [
        "## Load Dataset"
      ]
    },
    {
      "cell_type": "code",
      "execution_count": 8,
      "metadata": {
        "colab": {
          "base_uri": "https://localhost:8080/"
        },
        "id": "wwNwfCIM2SW_",
        "outputId": "410829d7-8073-4abd-f8ed-d433e1fc27a6"
      },
      "outputs": [
        {
          "output_type": "stream",
          "name": "stdout",
          "text": [
            "fatal: destination path 'X-SDD-A-New-benchmark' already exists and is not an empty directory.\n"
          ]
        }
      ],
      "source": [
        "# Clone dataset repo\n",
        "!git clone https://github.com/Fighter20092392/X-SDD-A-New-benchmark.git\n",
        "\n",
        "data_dir = '/content/X-SDD-A-New-benchmark/X-SDD/datas'\n",
        "\n",
        "# Then use this data_dir for your ImageFolder dataset"
      ]
    },
    {
      "cell_type": "markdown",
      "metadata": {
        "id": "nuwt2lJgfqgM"
      },
      "source": [
        "## Transform Images"
      ]
    },
    {
      "cell_type": "code",
      "execution_count": 9,
      "metadata": {
        "colab": {
          "base_uri": "https://localhost:8080/"
        },
        "id": "rxp7zXl92frL",
        "outputId": "c81224eb-d143-4252-eacf-f841791b0fb1"
      },
      "outputs": [
        {
          "output_type": "stream",
          "name": "stdout",
          "text": [
            "Train size: 951, Val size: 204, Test size: 205\n",
            "Classes: ['finishing roll printing', 'iron sheet ash', 'oxide scale of plate system', 'oxide scale of temperature system', 'red iron', 'slag inclusion', 'surface scratch']\n"
          ]
        }
      ],
      "source": [
        "import os\n",
        "import random\n",
        "import numpy as np\n",
        "import torch\n",
        "from torchvision import datasets, transforms\n",
        "from torch.utils.data import DataLoader, random_split\n",
        "\n",
        "seed = 24\n",
        "random.seed(seed)\n",
        "np.random.seed(seed)\n",
        "torch.manual_seed(seed)\n",
        "torch.cuda.manual_seed_all(seed)\n",
        "torch.backends.cudnn.deterministic = True\n",
        "torch.backends.cudnn.benchmark = False\n",
        "\n",
        "g = torch.Generator().manual_seed(seed)\n",
        "\n",
        "def seed_worker(worker_id):\n",
        "    worker_seed = seed + worker_id\n",
        "    np.random.seed(worker_seed)\n",
        "    random.seed(worker_seed)\n",
        "\n",
        "\n",
        "transform = transforms.Compose([\n",
        "    transforms.Grayscale(num_output_channels=1),\n",
        "    transforms.Resize((64, 64)),\n",
        "    transforms.ToTensor(),\n",
        "    transforms.Normalize((0.5,), (0.5,))\n",
        "])\n",
        "\n",
        "# Load entire dataset\n",
        "full_dataset = datasets.ImageFolder(data_dir, transform=transform)\n",
        "\n",
        "# Split into train(70%), val(15%), test(15%)\n",
        "total_size = len(full_dataset)\n",
        "train_size = int(0.7 * total_size)\n",
        "val_size = int(0.15 * total_size)\n",
        "test_size = total_size - train_size - val_size\n",
        "\n",
        "generator = torch.Generator().manual_seed(seed)\n",
        "train_dataset, val_dataset, test_dataset = random_split(\n",
        "    full_dataset, [train_size, val_size, test_size], generator=generator\n",
        ")\n",
        "\n",
        "new_train_loader = DataLoader(\n",
        "    train_dataset, batch_size=32, shuffle=True,\n",
        "    worker_init_fn=seed_worker, generator=g\n",
        ")\n",
        "\n",
        "new_val_loader = DataLoader(\n",
        "    val_dataset, batch_size=32, shuffle=False,\n",
        "    worker_init_fn=seed_worker, generator=g\n",
        ")\n",
        "\n",
        "new_test_loader = DataLoader(\n",
        "    test_dataset, batch_size=32, shuffle=False,\n",
        "    worker_init_fn=seed_worker, generator=g\n",
        ")\n",
        "\n",
        "print(f\"Train size: {train_size}, Val size: {val_size}, Test size: {test_size}\")\n",
        "print(f\"Classes: {full_dataset.classes}\")"
      ]
    },
    {
      "cell_type": "markdown",
      "metadata": {
        "id": "9N7d4qTxfwH_"
      },
      "source": [
        "## Neural Network Architecture"
      ]
    },
    {
      "cell_type": "code",
      "execution_count": 10,
      "metadata": {
        "id": "0oB2e3qS21w8",
        "colab": {
          "base_uri": "https://localhost:8080/",
          "height": 216
        },
        "outputId": "ebb22e91-d199-4539-cbe7-a36e1901c47a"
      },
      "outputs": [
        {
          "output_type": "error",
          "ename": "NameError",
          "evalue": "name 'model' is not defined",
          "traceback": [
            "\u001b[0;31m---------------------------------------------------------------------------\u001b[0m",
            "\u001b[0;31mNameError\u001b[0m                                 Traceback (most recent call last)",
            "\u001b[0;32m/tmp/ipython-input-10-594277964.py\u001b[0m in \u001b[0;36m<cell line: 0>\u001b[0;34m()\u001b[0m\n\u001b[0;32m----> 1\u001b[0;31m \u001b[0;32mfor\u001b[0m \u001b[0mname\u001b[0m\u001b[0;34m,\u001b[0m \u001b[0mparam\u001b[0m \u001b[0;32min\u001b[0m \u001b[0mmodel\u001b[0m\u001b[0;34m.\u001b[0m\u001b[0mnamed_parameters\u001b[0m\u001b[0;34m(\u001b[0m\u001b[0;34m)\u001b[0m\u001b[0;34m:\u001b[0m\u001b[0;34m\u001b[0m\u001b[0;34m\u001b[0m\u001b[0m\n\u001b[0m\u001b[1;32m      2\u001b[0m     \u001b[0;32mif\u001b[0m \u001b[0;34m\"fc2\"\u001b[0m \u001b[0;32mnot\u001b[0m \u001b[0;32min\u001b[0m \u001b[0mname\u001b[0m\u001b[0;34m:\u001b[0m  \u001b[0;31m# freeze all except the last layer\u001b[0m\u001b[0;34m\u001b[0m\u001b[0;34m\u001b[0m\u001b[0m\n\u001b[1;32m      3\u001b[0m         \u001b[0mparam\u001b[0m\u001b[0;34m.\u001b[0m\u001b[0mrequires_grad\u001b[0m \u001b[0;34m=\u001b[0m \u001b[0;32mFalse\u001b[0m\u001b[0;34m\u001b[0m\u001b[0;34m\u001b[0m\u001b[0m\n\u001b[1;32m      4\u001b[0m     \u001b[0;32melse\u001b[0m\u001b[0;34m:\u001b[0m\u001b[0;34m\u001b[0m\u001b[0;34m\u001b[0m\u001b[0m\n\u001b[1;32m      5\u001b[0m         \u001b[0mparam\u001b[0m\u001b[0;34m.\u001b[0m\u001b[0mrequires_grad\u001b[0m \u001b[0;34m=\u001b[0m \u001b[0;32mTrue\u001b[0m\u001b[0;34m\u001b[0m\u001b[0;34m\u001b[0m\u001b[0m\n",
            "\u001b[0;31mNameError\u001b[0m: name 'model' is not defined"
          ]
        }
      ],
      "source": [
        "for name, param in model.named_parameters():\n",
        "    if \"fc2\" not in name:  # freeze all except the last layer\n",
        "        param.requires_grad = False\n",
        "    else:\n",
        "        param.requires_grad = True\n",
        "\n",
        "num_new_classes = 7\n",
        "\n",
        "\n",
        "model.fc2 = nn.Linear(64, num_new_classes).to(device)\n",
        "\n",
        "# Ensure only this new layer's params require gradients\n",
        "for param in model.fc2.parameters():\n",
        "    param.requires_grad = True"
      ]
    },
    {
      "cell_type": "markdown",
      "metadata": {
        "id": "j8Rjmenif2LS"
      },
      "source": [
        "## Training - Validation"
      ]
    },
    {
      "cell_type": "code",
      "execution_count": null,
      "metadata": {
        "id": "qwsuGSCjr9gb"
      },
      "outputs": [],
      "source": [
        "import torch.nn as nn\n",
        "import torch\n",
        "\n",
        "# Ensuring that if the dataset is imbalanced will be fixed\n",
        "original_dataset = new_train_loader.dataset.dataset\n",
        "class_names = original_dataset.classes\n",
        "num_classes = len(class_names)\n",
        "\n",
        "# Calculate class counts from the training subset\n",
        "class_counts = [0] * num_classes\n",
        "for _, label in new_train_loader:\n",
        "    # The labels in the DataLoader correspond to the indices in the original dataset's classes\n",
        "    for l in label:\n",
        "        class_counts[l] += 1\n",
        "\n",
        "\n",
        "total_count = sum(class_counts)\n",
        "# Handle cases where a class might have zero samples in the training split\n",
        "class_weights = [total_count / class_count if class_count > 0 else 0 for class_count in class_counts]\n",
        "\n",
        "# Ensure class weights are positive for classes with samples\n",
        "class_weights = [weight if weight > 0 else 1.0 for weight in class_weights] # Assign a small weight or 1 to empty classes if needed\n",
        "\n",
        "class_weights = torch.tensor(class_weights, dtype=torch.float).to(device)\n",
        "\n",
        "# Use these weights with the loss function\n",
        "criterion_imbalanced = nn.CrossEntropyLoss(weight=class_weights)\n",
        "\n",
        "print(\"Class Counts:\", class_counts)\n",
        "print(\"Calculated Class Weights:\", class_weights)"
      ]
    },
    {
      "cell_type": "code",
      "execution_count": null,
      "metadata": {
        "id": "koSlMjN128Ea"
      },
      "outputs": [],
      "source": [
        "optimizer = optim.Adam(filter(lambda p: p.requires_grad, model.parameters()), lr=0.002)"
      ]
    },
    {
      "cell_type": "code",
      "execution_count": null,
      "metadata": {
        "id": "CrRpBQ_33MHS"
      },
      "outputs": [],
      "source": [
        "# Load new data and train as usual\n",
        "train_losses_SDD, val_losses_SDD=train_model(model, new_train_loader, new_val_loader, criterion_imbalanced, optimizer, epochs=50,model_save_name='SDD_Tr_1lyr')"
      ]
    },
    {
      "cell_type": "code",
      "execution_count": null,
      "metadata": {
        "id": "NRrrD2z9hRoo"
      },
      "outputs": [],
      "source": [
        "epochs = range(1, len(train_losses_SDD) + 1)\n",
        "\n",
        "# Plotting\n",
        "plt.figure(figsize=(8, 5))\n",
        "plt.plot(epochs, train_losses_SDD, label='Training Loss', color='blue', marker='o')\n",
        "plt.plot(epochs, val_losses_SDD, label='Validation Loss', color='pink', marker='o')\n",
        "plt.xlabel('Epoch')\n",
        "plt.ylabel('Loss')\n",
        "plt.title('Training vs Validation Loss 2nd dataset with Transfer Learning')\n",
        "plt.legend()\n",
        "\n",
        "# Ensure x-axis ticks are at integer epoch numbers\n",
        "plt.xticks(epochs, rotation=90)\n",
        "\n",
        "\n",
        "plt.show()"
      ]
    },
    {
      "cell_type": "code",
      "execution_count": null,
      "metadata": {
        "id": "WFVUBjMtizdD"
      },
      "outputs": [],
      "source": [
        "# Find the minimum validation loss and its epoch\n",
        "min_val_loss_SDD = min(val_losses_SDD)\n",
        "min_epoch_SDD_trans = val_losses_SDD.index(min_val_loss_SDD) + 1  # +1 because epochs start at 1\n",
        "\n",
        "print(f\"Minimum validation loss for the 2nd dataset with transfer learning: {min_val_loss_SDD:.4f} at epoch {min_epoch_SDD_trans}\")"
      ]
    },
    {
      "cell_type": "markdown",
      "metadata": {
        "id": "C6-6diVQf_eC"
      },
      "source": [
        "## Testing"
      ]
    },
    {
      "cell_type": "code",
      "execution_count": null,
      "metadata": {
        "id": "0jTwKEgkERwu"
      },
      "outputs": [],
      "source": [
        "# Load best weights before testing\n",
        "model.load_state_dict(torch.load('SDD_Tr_1lyr.pth'))"
      ]
    },
    {
      "cell_type": "code",
      "execution_count": null,
      "metadata": {
        "id": "zvrCTMfF4SNp"
      },
      "outputs": [],
      "source": [
        "test_model(model,new_test_loader)"
      ]
    },
    {
      "cell_type": "code",
      "execution_count": null,
      "metadata": {
        "id": "6verxnAs7H63"
      },
      "outputs": [],
      "source": [
        "model.eval()\n",
        "all_preds = []\n",
        "all_labels = []\n",
        "\n",
        "with torch.no_grad():\n",
        "    for images, labels in new_test_loader:\n",
        "        images = images.to(device)\n",
        "        labels = labels.to(device)\n",
        "        outputs = model(images)\n",
        "        _, preds = torch.max(outputs, 1)\n",
        "        all_preds.extend(preds.cpu().numpy())\n",
        "        all_labels.extend(labels.cpu().numpy())"
      ]
    },
    {
      "cell_type": "code",
      "execution_count": null,
      "metadata": {
        "id": "5nDfmL_E7Jba"
      },
      "outputs": [],
      "source": [
        "from sklearn.metrics import classification_report\n",
        "\n",
        "cm = confusion_matrix(all_labels, all_preds)\n",
        "class_names = full_dataset.classes  # Automatically extracted from folder names\n",
        "\n",
        "disp = ConfusionMatrixDisplay(confusion_matrix=cm, display_labels=class_names)\n",
        "disp.plot(cmap=plt.cm.Purples, xticks_rotation=90)\n",
        "plt.title(\"Confusion Matrix SDD Dataset - Transfer Learning\")\n",
        "plt.show()\n",
        "\n",
        "print(classification_report(all_labels, all_preds, target_names=class_names))"
      ]
    },
    {
      "cell_type": "markdown",
      "metadata": {
        "id": "b_CHW56Ft-zk"
      },
      "source": [
        "# **Transfer Learning - 2 fcs unfreezed**"
      ]
    },
    {
      "cell_type": "markdown",
      "metadata": {
        "id": "6_kzN4WHt-zm"
      },
      "source": [
        "## Neural Network Architecture"
      ]
    },
    {
      "cell_type": "code",
      "execution_count": 136,
      "metadata": {
        "id": "i5MOJWxet-zm"
      },
      "outputs": [],
      "source": [
        "model = CNN(num_classes=6).to(device)\n",
        "model.load_state_dict(torch.load('Neu_scratch.pth'))\n",
        "\n",
        "\n",
        "for name, param in model.named_parameters():\n",
        "    if \"fc2\" not in name:\n",
        "        param.requires_grad = False\n",
        "    elif \"fc1\" not in name:\n",
        "        param.requires_grad = False\n",
        "    else:\n",
        "        param.requires_grad = True\n",
        "\n",
        "num_new_classes = 7\n",
        "\n",
        "model.fc1 = nn.Linear(64 * 4 * 4, 64).to(device)\n",
        "model.fc2 = nn.Linear(64, num_new_classes).to(device)\n",
        "\n",
        "# Ensure only this new layer's params require gradients\n",
        "for param in model.fc2.parameters():\n",
        "    param.requires_grad = True\n",
        "for param in model.fc1.parameters():\n",
        "    param.requires_grad = True"
      ]
    },
    {
      "cell_type": "markdown",
      "metadata": {
        "id": "OFwGqfuSt-zn"
      },
      "source": [
        "## Training - Validation"
      ]
    },
    {
      "cell_type": "code",
      "execution_count": 137,
      "metadata": {
        "colab": {
          "base_uri": "https://localhost:8080/"
        },
        "id": "LiWQV_NLt-zn",
        "outputId": "539008a9-2fe3-42e0-b5cc-99eb5352bf6a"
      },
      "outputs": [
        {
          "output_type": "stream",
          "name": "stdout",
          "text": [
            "Class Counts: [137, 82, 40, 143, 279, 172, 98]\n",
            "Calculated Class Weights: tensor([ 6.9416, 11.5976, 23.7750,  6.6503,  3.4086,  5.5291,  9.7041])\n"
          ]
        }
      ],
      "source": [
        "import torch.nn as nn\n",
        "import torch\n",
        "\n",
        "# Ensuring that if the dataset is imbalanced will be fixed\n",
        "original_dataset = new_train_loader.dataset.dataset\n",
        "class_names = original_dataset.classes\n",
        "num_classes = len(class_names)\n",
        "\n",
        "# Calculate class counts from the training subset\n",
        "class_counts = [0] * num_classes\n",
        "for _, label in new_train_loader:\n",
        "    # The labels in the DataLoader correspond to the indices in the original dataset's classes\n",
        "    for l in label:\n",
        "        class_counts[l] += 1\n",
        "\n",
        "\n",
        "total_count = sum(class_counts)\n",
        "# Handle cases where a class might have zero samples in the training split\n",
        "class_weights = [total_count / class_count if class_count > 0 else 0 for class_count in class_counts]\n",
        "\n",
        "# Ensure class weights are positive for classes with samples\n",
        "class_weights = [weight if weight > 0 else 1.0 for weight in class_weights] # Assign a small weight or 1 to empty classes if needed\n",
        "\n",
        "class_weights = torch.tensor(class_weights, dtype=torch.float).to(device)\n",
        "\n",
        "# Use these weights with the loss function\n",
        "criterion_imbalanced = nn.CrossEntropyLoss(weight=class_weights)\n",
        "\n",
        "print(\"Class Counts:\", class_counts)\n",
        "print(\"Calculated Class Weights:\", class_weights)"
      ]
    },
    {
      "cell_type": "code",
      "execution_count": 138,
      "metadata": {
        "id": "663QRub0t-zn"
      },
      "outputs": [],
      "source": [
        "optimizer = optim.Adam(filter(lambda p: p.requires_grad, model.parameters()), lr=0.002)"
      ]
    },
    {
      "cell_type": "code",
      "execution_count": 139,
      "metadata": {
        "colab": {
          "base_uri": "https://localhost:8080/"
        },
        "id": "Ew_pXNT-t-zn",
        "outputId": "509e4e12-3f75-49f3-e4c9-553377ceb1f3"
      },
      "outputs": [
        {
          "output_type": "stream",
          "name": "stdout",
          "text": [
            "Epoch 1, Train Loss: 1.6023, Val Loss: 1.0974, Train Acc: 0.4816, Val Acc: 0.7304\n",
            "Epoch 2, Train Loss: 1.1670, Val Loss: 0.8313, Train Acc: 0.6425, Val Acc: 0.7990\n",
            "Epoch 3, Train Loss: 1.1005, Val Loss: 0.7349, Train Acc: 0.6414, Val Acc: 0.7941\n",
            "Epoch 4, Train Loss: 0.9488, Val Loss: 0.6171, Train Acc: 0.7056, Val Acc: 0.8235\n",
            "Epoch 5, Train Loss: 0.8392, Val Loss: 0.5825, Train Acc: 0.7119, Val Acc: 0.8039\n",
            "Epoch 6, Train Loss: 0.7815, Val Loss: 0.5640, Train Acc: 0.7203, Val Acc: 0.8235\n",
            "Epoch 7, Train Loss: 0.7857, Val Loss: 0.5411, Train Acc: 0.7319, Val Acc: 0.8333\n",
            "Epoch 8, Train Loss: 0.7506, Val Loss: 0.5637, Train Acc: 0.7319, Val Acc: 0.8382\n",
            "Epoch 9, Train Loss: 0.6975, Val Loss: 0.5146, Train Acc: 0.7655, Val Acc: 0.8284\n",
            "Epoch 10, Train Loss: 0.6611, Val Loss: 0.5175, Train Acc: 0.7624, Val Acc: 0.8088\n",
            "Epoch 11, Train Loss: 0.6350, Val Loss: 0.4726, Train Acc: 0.7645, Val Acc: 0.8235\n",
            "Epoch 12, Train Loss: 0.6427, Val Loss: 0.5373, Train Acc: 0.7718, Val Acc: 0.8137\n",
            "Epoch 13, Train Loss: 0.6023, Val Loss: 0.5180, Train Acc: 0.7855, Val Acc: 0.8578\n",
            "Epoch 14, Train Loss: 0.5678, Val Loss: 0.4779, Train Acc: 0.7992, Val Acc: 0.8382\n",
            "Epoch 15, Train Loss: 0.5221, Val Loss: 0.4588, Train Acc: 0.8139, Val Acc: 0.8382\n",
            "Epoch 16, Train Loss: 0.5478, Val Loss: 0.4464, Train Acc: 0.8013, Val Acc: 0.8480\n",
            "Epoch 17, Train Loss: 0.5646, Val Loss: 0.4557, Train Acc: 0.7876, Val Acc: 0.8284\n",
            "Epoch 18, Train Loss: 0.4776, Val Loss: 0.4355, Train Acc: 0.8128, Val Acc: 0.8529\n",
            "Epoch 19, Train Loss: 0.4933, Val Loss: 0.4473, Train Acc: 0.8265, Val Acc: 0.8480\n",
            "Epoch 20, Train Loss: 0.5251, Val Loss: 0.4407, Train Acc: 0.8023, Val Acc: 0.8529\n",
            "Epoch 21, Train Loss: 0.4430, Val Loss: 0.4222, Train Acc: 0.8402, Val Acc: 0.8480\n",
            "Epoch 22, Train Loss: 0.4491, Val Loss: 0.4255, Train Acc: 0.8202, Val Acc: 0.8627\n",
            "Epoch 23, Train Loss: 0.4206, Val Loss: 0.4422, Train Acc: 0.8370, Val Acc: 0.8480\n",
            "Epoch 24, Train Loss: 0.3951, Val Loss: 0.4127, Train Acc: 0.8475, Val Acc: 0.8676\n",
            "Epoch 25, Train Loss: 0.3765, Val Loss: 0.4475, Train Acc: 0.8433, Val Acc: 0.8529\n",
            "Epoch 26, Train Loss: 0.3898, Val Loss: 0.4457, Train Acc: 0.8275, Val Acc: 0.8578\n",
            "Epoch 27, Train Loss: 0.3918, Val Loss: 0.4283, Train Acc: 0.8454, Val Acc: 0.8578\n",
            "Epoch 28, Train Loss: 0.3735, Val Loss: 0.3850, Train Acc: 0.8444, Val Acc: 0.8725\n",
            "Epoch 29, Train Loss: 0.4078, Val Loss: 0.4009, Train Acc: 0.8465, Val Acc: 0.8431\n",
            "Epoch 30, Train Loss: 0.3827, Val Loss: 0.4157, Train Acc: 0.8412, Val Acc: 0.8529\n",
            "Epoch 31, Train Loss: 0.4064, Val Loss: 0.4284, Train Acc: 0.8538, Val Acc: 0.8431\n",
            "Epoch 32, Train Loss: 0.3479, Val Loss: 0.3959, Train Acc: 0.8623, Val Acc: 0.8824\n",
            "Epoch 33, Train Loss: 0.3673, Val Loss: 0.3627, Train Acc: 0.8507, Val Acc: 0.8775\n",
            "Epoch 34, Train Loss: 0.3700, Val Loss: 0.4217, Train Acc: 0.8633, Val Acc: 0.8578\n",
            "Epoch 35, Train Loss: 0.3588, Val Loss: 0.4257, Train Acc: 0.8465, Val Acc: 0.8382\n",
            "Epoch 36, Train Loss: 0.3399, Val Loss: 0.4536, Train Acc: 0.8559, Val Acc: 0.8382\n",
            "Epoch 37, Train Loss: 0.3785, Val Loss: 0.4880, Train Acc: 0.8528, Val Acc: 0.8333\n",
            "Epoch 38, Train Loss: 0.3358, Val Loss: 0.4388, Train Acc: 0.8465, Val Acc: 0.8382\n",
            "Epoch 39, Train Loss: 0.3792, Val Loss: 0.4085, Train Acc: 0.8496, Val Acc: 0.8529\n",
            "Epoch 40, Train Loss: 0.3389, Val Loss: 0.4099, Train Acc: 0.8717, Val Acc: 0.8627\n",
            "Epoch 41, Train Loss: 0.3472, Val Loss: 0.3973, Train Acc: 0.8570, Val Acc: 0.8627\n",
            "Epoch 42, Train Loss: 0.3474, Val Loss: 0.4182, Train Acc: 0.8591, Val Acc: 0.8725\n",
            "Epoch 43, Train Loss: 0.3592, Val Loss: 0.3822, Train Acc: 0.8633, Val Acc: 0.8725\n",
            "Epoch 44, Train Loss: 0.3453, Val Loss: 0.4314, Train Acc: 0.8633, Val Acc: 0.8676\n",
            "Epoch 45, Train Loss: 0.3438, Val Loss: 0.4425, Train Acc: 0.8601, Val Acc: 0.8627\n",
            "Epoch 46, Train Loss: 0.2965, Val Loss: 0.4782, Train Acc: 0.8822, Val Acc: 0.8676\n",
            "Epoch 47, Train Loss: 0.2882, Val Loss: 0.4255, Train Acc: 0.8728, Val Acc: 0.8725\n",
            "Epoch 48, Train Loss: 0.2977, Val Loss: 0.5051, Train Acc: 0.8885, Val Acc: 0.8480\n",
            "Epoch 49, Train Loss: 0.3043, Val Loss: 0.5341, Train Acc: 0.8707, Val Acc: 0.8235\n",
            "Epoch 50, Train Loss: 0.3005, Val Loss: 0.4539, Train Acc: 0.8717, Val Acc: 0.8529\n"
          ]
        }
      ],
      "source": [
        "# Load new data and train as usual\n",
        "train_losses_SDD, val_losses_SDD=train_model(model, new_train_loader, new_val_loader, criterion_imbalanced, optimizer, epochs=50,model_save_name='SDD_Tr_2lyr')"
      ]
    },
    {
      "cell_type": "code",
      "execution_count": 140,
      "metadata": {
        "colab": {
          "base_uri": "https://localhost:8080/",
          "height": 491
        },
        "id": "koluBMy1t-zo",
        "outputId": "0db7d1c9-33c6-4bf1-b630-8e988b3c4921"
      },
      "outputs": [
        {
          "output_type": "display_data",
          "data": {
            "text/plain": [
              "<Figure size 800x500 with 1 Axes>"
            ],
            "image/png": "[encoded data removed]"
          },
          "metadata": {}
        }
      ],
      "source": [
        "epochs = range(1, len(train_losses_SDD) + 1)\n",
        "\n",
        "# Plotting\n",
        "plt.figure(figsize=(8, 5))\n",
        "plt.plot(epochs, train_losses_SDD, label='Training Loss', color='blue', marker='o')\n",
        "plt.plot(epochs, val_losses_SDD, label='Validation Loss', color='pink', marker='o')\n",
        "plt.xlabel('Epoch')\n",
        "plt.ylabel('Loss')\n",
        "plt.title('Training vs Validation Loss 2nd dataset with Transfer Learning')\n",
        "plt.legend()\n",
        "# Ensure x-axis ticks are at integer epoch numbers\n",
        "plt.xticks(epochs, rotation=90)\n",
        "\n",
        "\n",
        "plt.show()"
      ]
    },
    {
      "cell_type": "code",
      "execution_count": 141,
      "metadata": {
        "colab": {
          "base_uri": "https://localhost:8080/"
        },
        "id": "BGSqAQZRt-zo",
        "outputId": "70b2584c-c272-475f-91da-e1fe77421b7e"
      },
      "outputs": [
        {
          "output_type": "stream",
          "name": "stdout",
          "text": [
            "Minimum validation loss for the 2nd dataset with transfer learning: 0.3627 at epoch 33\n"
          ]
        }
      ],
      "source": [
        "# Find the minimum validation loss and its epoch\n",
        "min_val_loss_SDD = min(val_losses_SDD)\n",
        "min_epoch_SDD_trans = val_losses_SDD.index(min_val_loss_SDD) + 1  # +1 because epochs start at 1\n",
        "\n",
        "print(f\"Minimum validation loss for the 2nd dataset with transfer learning: {min_val_loss_SDD:.4f} at epoch {min_epoch_SDD_trans}\")"
      ]
    },
    {
      "cell_type": "markdown",
      "metadata": {
        "id": "mcgOab69t-zo"
      },
      "source": [
        "## Testing"
      ]
    },
    {
      "cell_type": "code",
      "execution_count": 145,
      "metadata": {
        "colab": {
          "base_uri": "https://localhost:8080/"
        },
        "id": "chfZGK1ot-zo",
        "outputId": "8d506438-4c19-4ea2-874f-5ad11fbe8994"
      },
      "outputs": [
        {
          "output_type": "execute_result",
          "data": {
            "text/plain": [
              "<All keys matched successfully>"
            ]
          },
          "metadata": {},
          "execution_count": 145
        }
      ],
      "source": [
        "# Load best weights before testing\n",
        "model.load_state_dict(torch.load('SDD_Tr_2lyr.pth'))"
      ]
    },
    {
      "cell_type": "code",
      "execution_count": 146,
      "metadata": {
        "colab": {
          "base_uri": "https://localhost:8080/"
        },
        "id": "RrsSAFNtt-zp",
        "outputId": "370dd50b-9a12-4e04-a56b-d68ca31a1f17"
      },
      "outputs": [
        {
          "output_type": "stream",
          "name": "stdout",
          "text": [
            "Test Accuracy: 86.3415%\n"
          ]
        }
      ],
      "source": [
        "test_model(model,new_test_loader)"
      ]
    },
    {
      "cell_type": "code",
      "execution_count": 147,
      "metadata": {
        "id": "OEvdLKAwt-zp"
      },
      "outputs": [],
      "source": [
        "model.eval()\n",
        "all_preds = []\n",
        "all_labels = []\n",
        "\n",
        "with torch.no_grad():\n",
        "    for images, labels in new_test_loader:\n",
        "        images = images.to(device)\n",
        "        labels = labels.to(device)\n",
        "        outputs = model(images)\n",
        "        _, preds = torch.max(outputs, 1)\n",
        "        all_preds.extend(preds.cpu().numpy())\n",
        "        all_labels.extend(labels.cpu().numpy())"
      ]
    },
    {
      "cell_type": "code",
      "execution_count": 148,
      "metadata": {
        "colab": {
          "base_uri": "https://localhost:8080/",
          "height": 950
        },
        "id": "Pwcxlq7Ft-zp",
        "outputId": "586d0670-1d1c-4af5-d70d-ddf347555d69"
      },
      "outputs": [
        {
          "output_type": "display_data",
          "data": {
            "text/plain": [
              "<Figure size 640x480 with 2 Axes>"
            ],
            "image/png": "[encoded data removed]"
          },
          "metadata": {}
        },
        {
          "output_type": "stream",
          "name": "stdout",
          "text": [
            "                                   precision    recall  f1-score   support\n",
            "\n",
            "          finishing roll printing       0.96      0.90      0.93        29\n",
            "                   iron sheet ash       1.00      0.95      0.97        19\n",
            "      oxide scale of plate system       1.00      0.50      0.67        10\n",
            "oxide scale of temperature system       0.76      0.97      0.85        29\n",
            "                         red iron       0.95      0.83      0.89        71\n",
            "                   slag inclusion       0.87      0.80      0.83        25\n",
            "                  surface scratch       0.64      0.95      0.76        22\n",
            "\n",
            "                         accuracy                           0.86       205\n",
            "                        macro avg       0.88      0.84      0.84       205\n",
            "                     weighted avg       0.89      0.86      0.86       205\n",
            "\n"
          ]
        }
      ],
      "source": [
        "from sklearn.metrics import classification_report\n",
        "\n",
        "cm = confusion_matrix(all_labels, all_preds)\n",
        "class_names = full_dataset.classes  # Automatically extracted from folder names\n",
        "\n",
        "disp = ConfusionMatrixDisplay(confusion_matrix=cm, display_labels=class_names)\n",
        "disp.plot(cmap=plt.cm.Blues, xticks_rotation=90)\n",
        "plt.title(\"Confusion Matrix SDD Dataset - Transfer Learning\")\n",
        "plt.show()\n",
        "\n",
        "print(classification_report(all_labels, all_preds, target_names=class_names))"
      ]
    },
    {
      "cell_type": "markdown",
      "metadata": {
        "id": "v25UQaBPFdju"
      },
      "source": [
        "# **From Scratch Learning - 2nd Dataset**"
      ]
    },
    {
      "cell_type": "markdown",
      "metadata": {
        "id": "dASNZ3FKgF9j"
      },
      "source": [
        "## Training - Validation"
      ]
    },
    {
      "cell_type": "code",
      "execution_count": 151,
      "metadata": {
        "colab": {
          "base_uri": "https://localhost:8080/"
        },
        "id": "z7QRO4tw4ZvR",
        "outputId": "905ce885-08df-421e-deb6-e5c0ca444823"
      },
      "outputs": [
        {
          "output_type": "stream",
          "name": "stdout",
          "text": [
            "Epoch 1, Train Loss: 1.8077, Val Loss: 1.9632, Train Acc: 0.3123, Val Acc: 0.1814\n",
            "Epoch 2, Train Loss: 1.5667, Val Loss: 1.5445, Train Acc: 0.4385, Val Acc: 0.5147\n",
            "Epoch 3, Train Loss: 1.4382, Val Loss: 1.2332, Train Acc: 0.4890, Val Acc: 0.6716\n",
            "Epoch 4, Train Loss: 1.2403, Val Loss: 1.0920, Train Acc: 0.5825, Val Acc: 0.6814\n",
            "Epoch 5, Train Loss: 1.0740, Val Loss: 0.9172, Train Acc: 0.6519, Val Acc: 0.7745\n",
            "Epoch 6, Train Loss: 0.9630, Val Loss: 0.8699, Train Acc: 0.6845, Val Acc: 0.7353\n",
            "Epoch 7, Train Loss: 0.8775, Val Loss: 0.8631, Train Acc: 0.7066, Val Acc: 0.7010\n",
            "Epoch 8, Train Loss: 0.7438, Val Loss: 0.6445, Train Acc: 0.7560, Val Acc: 0.8088\n",
            "Epoch 9, Train Loss: 0.6627, Val Loss: 0.6051, Train Acc: 0.8013, Val Acc: 0.8186\n",
            "Epoch 10, Train Loss: 0.5828, Val Loss: 0.5457, Train Acc: 0.8128, Val Acc: 0.8333\n",
            "Epoch 11, Train Loss: 0.5365, Val Loss: 0.4558, Train Acc: 0.8181, Val Acc: 0.8431\n",
            "Epoch 12, Train Loss: 0.4782, Val Loss: 0.4570, Train Acc: 0.8370, Val Acc: 0.8480\n",
            "Epoch 13, Train Loss: 0.4413, Val Loss: 0.4179, Train Acc: 0.8496, Val Acc: 0.8578\n",
            "Epoch 14, Train Loss: 0.3999, Val Loss: 0.4807, Train Acc: 0.8559, Val Acc: 0.8480\n",
            "Epoch 15, Train Loss: 0.3873, Val Loss: 0.4029, Train Acc: 0.8601, Val Acc: 0.8725\n",
            "Epoch 16, Train Loss: 0.3125, Val Loss: 0.4406, Train Acc: 0.8959, Val Acc: 0.8382\n",
            "Epoch 17, Train Loss: 0.2990, Val Loss: 0.3512, Train Acc: 0.8938, Val Acc: 0.8775\n",
            "Epoch 18, Train Loss: 0.2724, Val Loss: 0.3848, Train Acc: 0.9033, Val Acc: 0.8676\n",
            "Epoch 19, Train Loss: 0.2726, Val Loss: 0.3527, Train Acc: 0.8959, Val Acc: 0.8873\n",
            "Epoch 20, Train Loss: 0.2565, Val Loss: 0.7750, Train Acc: 0.9001, Val Acc: 0.7206\n",
            "Epoch 21, Train Loss: 0.2614, Val Loss: 0.3938, Train Acc: 0.8970, Val Acc: 0.8676\n",
            "Epoch 22, Train Loss: 0.2138, Val Loss: 0.3628, Train Acc: 0.9243, Val Acc: 0.9020\n",
            "Epoch 23, Train Loss: 0.2076, Val Loss: 0.3601, Train Acc: 0.9243, Val Acc: 0.9020\n",
            "Epoch 24, Train Loss: 0.1709, Val Loss: 0.3633, Train Acc: 0.9453, Val Acc: 0.9020\n",
            "Epoch 25, Train Loss: 0.1795, Val Loss: 0.3468, Train Acc: 0.9380, Val Acc: 0.8971\n",
            "Epoch 26, Train Loss: 0.1838, Val Loss: 0.3566, Train Acc: 0.9274, Val Acc: 0.8873\n",
            "Epoch 27, Train Loss: 0.1510, Val Loss: 0.9155, Train Acc: 0.9422, Val Acc: 0.7304\n",
            "Epoch 28, Train Loss: 0.1186, Val Loss: 0.3605, Train Acc: 0.9558, Val Acc: 0.8971\n",
            "Epoch 29, Train Loss: 0.1296, Val Loss: 0.3876, Train Acc: 0.9516, Val Acc: 0.9118\n",
            "Epoch 30, Train Loss: 0.1549, Val Loss: 0.3018, Train Acc: 0.9359, Val Acc: 0.9265\n",
            "Epoch 31, Train Loss: 0.1018, Val Loss: 0.3309, Train Acc: 0.9600, Val Acc: 0.9118\n",
            "Epoch 32, Train Loss: 0.1411, Val Loss: 0.4192, Train Acc: 0.9569, Val Acc: 0.8824\n",
            "Epoch 33, Train Loss: 0.1261, Val Loss: 0.4660, Train Acc: 0.9569, Val Acc: 0.8382\n",
            "Epoch 34, Train Loss: 0.1270, Val Loss: 0.3865, Train Acc: 0.9558, Val Acc: 0.9020\n",
            "Epoch 35, Train Loss: 0.1405, Val Loss: 0.6097, Train Acc: 0.9464, Val Acc: 0.8186\n",
            "Epoch 36, Train Loss: 0.1244, Val Loss: 0.4147, Train Acc: 0.9558, Val Acc: 0.8627\n",
            "Epoch 37, Train Loss: 0.1152, Val Loss: 0.5071, Train Acc: 0.9527, Val Acc: 0.8578\n",
            "Epoch 38, Train Loss: 0.1125, Val Loss: 0.4438, Train Acc: 0.9590, Val Acc: 0.8627\n",
            "Epoch 39, Train Loss: 0.0791, Val Loss: 0.3838, Train Acc: 0.9748, Val Acc: 0.9020\n",
            "Epoch 40, Train Loss: 0.0758, Val Loss: 0.4488, Train Acc: 0.9737, Val Acc: 0.8676\n",
            "Epoch 41, Train Loss: 0.1164, Val Loss: 0.4968, Train Acc: 0.9579, Val Acc: 0.8529\n",
            "Epoch 42, Train Loss: 0.0797, Val Loss: 0.3897, Train Acc: 0.9779, Val Acc: 0.9216\n",
            "Epoch 43, Train Loss: 0.0711, Val Loss: 0.4394, Train Acc: 0.9811, Val Acc: 0.9069\n",
            "Epoch 44, Train Loss: 0.0894, Val Loss: 0.3899, Train Acc: 0.9664, Val Acc: 0.9167\n",
            "Epoch 45, Train Loss: 0.0989, Val Loss: 0.3961, Train Acc: 0.9621, Val Acc: 0.8971\n",
            "Epoch 46, Train Loss: 0.0606, Val Loss: 0.4631, Train Acc: 0.9874, Val Acc: 0.8775\n",
            "Epoch 47, Train Loss: 0.0668, Val Loss: 0.4165, Train Acc: 0.9779, Val Acc: 0.8922\n",
            "Epoch 48, Train Loss: 0.0558, Val Loss: 0.3862, Train Acc: 0.9863, Val Acc: 0.9118\n",
            "Epoch 49, Train Loss: 0.0540, Val Loss: 0.3364, Train Acc: 0.9853, Val Acc: 0.9314\n",
            "Epoch 50, Train Loss: 0.0539, Val Loss: 0.3259, Train Acc: 0.9832, Val Acc: 0.9118\n"
          ]
        }
      ],
      "source": [
        "model2 = CNN(num_classes=7).to(device)\n",
        "optimizer2 = optim.Adam(model2.parameters(), lr=0.0005)\n",
        "train_losses_SDD_fromscratch, val_losses_SDD_fromscratch = train_model(model2, new_train_loader, new_val_loader, criterion_imbalanced, optimizer2, epochs=50,model_save_name='SDD_Scratch')"
      ]
    },
    {
      "cell_type": "code",
      "execution_count": 152,
      "metadata": {
        "colab": {
          "base_uri": "https://localhost:8080/",
          "height": 491
        },
        "id": "Z01XfDEYiNeH",
        "outputId": "6a589ace-09c3-4fbe-a674-50a77571d190"
      },
      "outputs": [
        {
          "output_type": "display_data",
          "data": {
            "text/plain": [
              "<Figure size 800x500 with 1 Axes>"
            ],
            "image/png": "[encoded data removed]"
          },
          "metadata": {}
        }
      ],
      "source": [
        "epochs = range(1, len(train_losses_SDD_fromscratch) + 1)\n",
        "\n",
        "# Plotting\n",
        "plt.figure(figsize=(8, 5))\n",
        "plt.plot(epochs, train_losses_SDD_fromscratch, label='Training Loss', color='orange', marker='o')\n",
        "plt.plot(epochs, val_losses_SDD_fromscratch, label='Validation Loss', color='black', marker='o')\n",
        "plt.xlabel('Epoch')\n",
        "plt.ylabel('Loss')\n",
        "plt.title('Training vs Validation Loss 2nd dataset from scratch Learning')\n",
        "plt.legend()\n",
        "\n",
        "# Ensure x-axis ticks are at integer epoch numbers\n",
        "plt.xticks(epochs, rotation=90)\n",
        "\n",
        "plt.show()"
      ]
    },
    {
      "cell_type": "code",
      "execution_count": 153,
      "metadata": {
        "colab": {
          "base_uri": "https://localhost:8080/"
        },
        "id": "WnB8cj3wjFzX",
        "outputId": "be78a8e1-0391-4a01-f80c-ba283a460a13"
      },
      "outputs": [
        {
          "output_type": "stream",
          "name": "stdout",
          "text": [
            "Minimum validation loss for the 2nd dataset with transfer learning: 0.3018 at epoch 30\n"
          ]
        }
      ],
      "source": [
        "# Find the minimum validation loss and its epoch\n",
        "min_val_loss_SDD = min(val_losses_SDD_fromscratch)\n",
        "min_epoch_SDD_scratch = val_losses_SDD_fromscratch.index(min_val_loss_SDD) + 1  # +1 because epochs start at 1\n",
        "\n",
        "print(f\"Minimum validation loss for the 2nd dataset with transfer learning: {min_val_loss_SDD:.4f} at epoch {min_epoch_SDD_scratch}\")"
      ]
    },
    {
      "cell_type": "markdown",
      "metadata": {
        "id": "oHFUj5zogIvP"
      },
      "source": [
        "## Testing"
      ]
    },
    {
      "cell_type": "code",
      "execution_count": 154,
      "metadata": {
        "colab": {
          "base_uri": "https://localhost:8080/"
        },
        "id": "Lpunlze0EULd",
        "outputId": "ee3dbe8a-7224-4ec7-e281-6bd593265791"
      },
      "outputs": [
        {
          "output_type": "execute_result",
          "data": {
            "text/plain": [
              "<All keys matched successfully>"
            ]
          },
          "metadata": {},
          "execution_count": 154
        }
      ],
      "source": [
        "model2.load_state_dict(torch.load('SDD_Scratch.pth'))"
      ]
    },
    {
      "cell_type": "code",
      "execution_count": 155,
      "metadata": {
        "colab": {
          "base_uri": "https://localhost:8080/"
        },
        "id": "eWVQH2xv7Q4A",
        "outputId": "2d231c3b-e0b2-4d7c-aac5-f46191987e64"
      },
      "outputs": [
        {
          "output_type": "stream",
          "name": "stdout",
          "text": [
            "Test Accuracy: 92.1951%\n"
          ]
        }
      ],
      "source": [
        "test_model(model2,new_test_loader)\n"
      ]
    },
    {
      "cell_type": "code",
      "execution_count": 157,
      "metadata": {
        "id": "Dwo4kACy6L79"
      },
      "outputs": [],
      "source": [
        "model2.eval()\n",
        "all_preds = []\n",
        "all_labels = []\n",
        "\n",
        "with torch.no_grad():\n",
        "    for images, labels in new_test_loader:\n",
        "        images = images.to(device)\n",
        "        labels = labels.to(device)\n",
        "        outputs = model2(images)\n",
        "        _, preds = torch.max(outputs, 1)\n",
        "        all_preds.extend(preds.cpu().numpy())\n",
        "        all_labels.extend(labels.cpu().numpy())"
      ]
    },
    {
      "cell_type": "code",
      "execution_count": 158,
      "metadata": {
        "colab": {
          "base_uri": "https://localhost:8080/",
          "height": 950
        },
        "id": "Vby18mdk6dd1",
        "outputId": "7d1e659d-30c4-4cdf-dd0e-1296cfd5791d"
      },
      "outputs": [
        {
          "output_type": "display_data",
          "data": {
            "text/plain": [
              "<Figure size 640x480 with 2 Axes>"
            ],
            "image/png": "[encoded data removed]"
          },
          "metadata": {}
        },
        {
          "output_type": "stream",
          "name": "stdout",
          "text": [
            "                                   precision    recall  f1-score   support\n",
            "\n",
            "          finishing roll printing       0.88      0.97      0.92        29\n",
            "                   iron sheet ash       1.00      0.74      0.85        19\n",
            "      oxide scale of plate system       0.67      0.80      0.73        10\n",
            "oxide scale of temperature system       0.91      1.00      0.95        29\n",
            "                         red iron       0.97      0.97      0.97        71\n",
            "                   slag inclusion       0.87      0.80      0.83        25\n",
            "                  surface scratch       1.00      0.95      0.98        22\n",
            "\n",
            "                         accuracy                           0.92       205\n",
            "                        macro avg       0.90      0.89      0.89       205\n",
            "                     weighted avg       0.93      0.92      0.92       205\n",
            "\n"
          ]
        }
      ],
      "source": [
        "from sklearn.metrics import classification_report\n",
        "\n",
        "cm = confusion_matrix(all_labels, all_preds)\n",
        "class_names = full_dataset.classes  # Automatically extracted from folder names\n",
        "\n",
        "disp = ConfusionMatrixDisplay(confusion_matrix=cm, display_labels=class_names)\n",
        "disp.plot(cmap=plt.cm.Reds, xticks_rotation=90)\n",
        "plt.title(\"Confusion Matrix SDD Dataset - From scratch\")\n",
        "plt.show()\n",
        "\n",
        "print(classification_report(all_labels, all_preds, target_names=class_names))"
      ]
    }
  ],
  "metadata": {
    "colab": {
      "provenance": []
    },
    "kernelspec": {
      "display_name": "Python 3",
      "name": "python3"
    },
    "language_info": {
      "name": "python"
    }
  },
  "nbformat": 4,
  "nbformat_minor": 0
}